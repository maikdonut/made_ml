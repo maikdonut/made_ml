{
 "cells": [
  {
   "cell_type": "markdown",
   "metadata": {
    "id": "qjfoWcBJl4me"
   },
   "source": [
    "## Lab 2"
   ]
  },
  {
   "cell_type": "markdown",
   "metadata": {
    "id": "IT4Nv5jUl4mh"
   },
   "source": [
    "### Part 3. Poetry generation\n",
    "\n",
    "Let's try to generate some poetry using RNNs. \n",
    "\n",
    "You have several choices here: \n",
    "\n",
    "* The Shakespeare sonnets, file `sonnets.txt` available in the notebook directory.\n",
    "\n",
    "* Роман в стихах \"Евгений Онегин\" Александра Сергеевича Пушкина. В предобработанном виде доступен по [ссылке](https://github.com/attatrol/data_sources/blob/master/onegin.txt).\n",
    "\n",
    "* Some other text source, if it will be approved by the course staff.\n",
    "\n",
    "Text generation can be designed in several steps:\n",
    "    \n",
    "1. Data loading.\n",
    "2. Dictionary generation.\n",
    "3. Data preprocessing.\n",
    "4. Model (neural network) training.\n",
    "5. Text generation (model evaluation).\n"
   ]
  },
  {
   "cell_type": "code",
   "execution_count": 2,
   "metadata": {
    "id": "xKZqIFpil4mi"
   },
   "outputs": [],
   "source": [
    "from collections import Counter\n",
    "from IPython.display import clear_output\n",
    "\n",
    "\n",
    "import string\n",
    "import os\n",
    "import re\n",
    "import torch\n",
    "import torch.nn as nn\n",
    "import torch.nn.functional as F\n",
    "import numpy as np\n",
    "import matplotlib.pyplot as plt\n",
    "%matplotlib inline"
   ]
  },
  {
   "cell_type": "markdown",
   "metadata": {
    "id": "BG2ldJ20l4mj"
   },
   "source": [
    "### Data loading: Shakespeare"
   ]
  },
  {
   "cell_type": "markdown",
   "metadata": {
    "id": "6u9iVoaxl4mj"
   },
   "source": [
    "Shakespeare sonnets are awailable at this [link](http://www.gutenberg.org/ebooks/1041?msg=welcome_stranger). In addition, they are stored in the same directory as this notebook (`sonnetes.txt`). Simple preprocessing is already done for you in the next cell: all technical info is dropped."
   ]
  },
  {
   "cell_type": "code",
   "execution_count": 3,
   "metadata": {
    "collapsed": true,
    "id": "abWT6zawl4mk"
   },
   "outputs": [],
   "source": [
    "if not os.path.exists('sonnets.txt'):\n",
    "    !wget https://raw.githubusercontent.com/girafe-ai/ml-course/22f_basic/homeworks_basic/lab02_deep_learning/sonnets.txt\n",
    "\n",
    "with open('sonnets.txt', 'r') as iofile:\n",
    "    text = iofile.readlines()\n",
    "    \n",
    "TEXT_START = 45\n",
    "TEXT_END = -368\n",
    "text = text[TEXT_START : TEXT_END]\n",
    "assert len(text) == 2616"
   ]
  },
  {
   "cell_type": "code",
   "execution_count": 4,
   "metadata": {
    "colab": {
     "base_uri": "https://localhost:8080/"
    },
    "id": "ElqOUcdWLrsE",
    "outputId": "a6baf028-520a-4af4-a671-133390f47415"
   },
   "outputs": [
    {
     "data": {
      "text/plain": [
       "['  From fairest creatures we desire increase,\\n',\n",
       " \"  That thereby beauty's rose might never die,\\n\",\n",
       " '  But as the riper should by time decease,\\n',\n",
       " '  His tender heir might bear his memory:\\n',\n",
       " '  But thou, contracted to thine own bright eyes,\\n',\n",
       " \"  Feed'st thy light's flame with self-substantial fuel,\\n\",\n",
       " '  Making a famine where abundance lies,\\n',\n",
       " '  Thy self thy foe, to thy sweet self too cruel:\\n',\n",
       " \"  Thou that art now the world's fresh ornament,\\n\",\n",
       " '  And only herald to the gaudy spring,\\n',\n",
       " '  Within thine own bud buriest thy content,\\n',\n",
       " \"  And tender churl mak'st waste in niggarding:\\n\",\n",
       " '    Pity the world, or else this glutton be,\\n',\n",
       " \"    To eat the world's due, by the grave and thee.\\n\",\n",
       " '\\n',\n",
       " '  II\\n',\n",
       " '\\n',\n",
       " '  When forty winters shall besiege thy brow,\\n',\n",
       " \"  And dig deep trenches in thy beauty's field,\\n\",\n",
       " \"  Thy youth's proud livery so gazed on now,\\n\",\n",
       " \"  Will be a tatter'd weed of small worth held:\\n\",\n",
       " '  Then being asked, where all thy beauty lies,\\n',\n",
       " '  Where all the treasure of thy lusty days;\\n',\n",
       " '  To say, within thine own deep sunken eyes,\\n',\n",
       " '  Were an all-eating shame, and thriftless praise.\\n',\n",
       " \"  How much more praise deserv'd thy beauty's use,\\n\",\n",
       " \"  If thou couldst answer 'This fair child of mine\\n\",\n",
       " \"  Shall sum my count, and make my old excuse,'\\n\",\n",
       " '  Proving his beauty by succession thine!\\n',\n",
       " '    This were to be new made when thou art old,\\n',\n",
       " \"    And see thy blood warm when thou feel'st it cold.\\n\",\n",
       " '\\n',\n",
       " '  III\\n',\n",
       " '\\n',\n",
       " '  Look in thy glass and tell the face thou viewest\\n',\n",
       " '  Now is the time that face should form another;\\n',\n",
       " '  Whose fresh repair if now thou not renewest,\\n',\n",
       " '  Thou dost beguile the world, unbless some mother.\\n',\n",
       " \"  For where is she so fair whose unear'd womb\\n\",\n",
       " '  Disdains the tillage of thy husbandry?\\n',\n",
       " '  Or who is he so fond will be the tomb,\\n',\n",
       " '  Of his self-love to stop posterity?\\n',\n",
       " \"  Thou art thy mother's glass and she in thee\\n\",\n",
       " '  Calls back the lovely April of her prime;\\n',\n",
       " '  So thou through windows of thine age shalt see,\\n',\n",
       " '  Despite of wrinkles this thy golden time.\\n',\n",
       " \"    But if thou live, remember'd not to be,\\n\",\n",
       " '    Die single and thine image dies with thee.\\n',\n",
       " '\\n',\n",
       " '  IV\\n',\n",
       " '\\n',\n",
       " '  Unthrifty loveliness, why dost thou spend\\n',\n",
       " \"  Upon thy self thy beauty's legacy?\\n\",\n",
       " \"  Nature's bequest gives nothing, but doth lend,\\n\",\n",
       " '  And being frank she lends to those are free:\\n',\n",
       " '  Then, beauteous niggard, why dost thou abuse\\n',\n",
       " '  The bounteous largess given thee to give?\\n',\n",
       " '  Profitless usurer, why dost thou use\\n',\n",
       " '  So great a sum of sums, yet canst not live?\\n',\n",
       " '  For having traffic with thy self alone,\\n',\n",
       " '  Thou of thy self thy sweet self dost deceive:\\n',\n",
       " '  Then how when nature calls thee to be gone,\\n',\n",
       " '  What acceptable audit canst thou leave?\\n',\n",
       " '    Thy unused beauty must be tombed with thee,\\n',\n",
       " \"    Which, used, lives th' executor to be.\\n\",\n",
       " '\\n',\n",
       " '  V\\n',\n",
       " '\\n',\n",
       " '  Those hours, that with gentle work did frame\\n',\n",
       " '  The lovely gaze where every eye doth dwell,\\n',\n",
       " '  Will play the tyrants to the very same\\n',\n",
       " '  And that unfair which fairly doth excel;\\n',\n",
       " '  For never-resting time leads summer on\\n',\n",
       " '  To hideous winter, and confounds him there;\\n',\n",
       " '  Sap checked with frost, and lusty leaves quite gone,\\n',\n",
       " \"  Beauty o'er-snowed and bareness every where:\\n\",\n",
       " \"  Then were not summer's distillation left,\\n\",\n",
       " '  A liquid prisoner pent in walls of glass,\\n',\n",
       " \"  Beauty's effect with beauty were bereft,\\n\",\n",
       " '  Nor it, nor no remembrance what it was:\\n',\n",
       " \"    But flowers distill'd, though they with winter meet,\\n\",\n",
       " '    Leese but their show; their substance still lives sweet.\\n',\n",
       " '\\n',\n",
       " '\\n',\n",
       " '  VI\\n',\n",
       " '\\n',\n",
       " \"  Then let not winter's ragged hand deface,\\n\",\n",
       " \"  In thee thy summer, ere thou be distill'd:\\n\",\n",
       " '  Make sweet some vial; treasure thou some place\\n',\n",
       " \"  With beauty's treasure ere it be self-kill'd.\\n\",\n",
       " '  That use is not forbidden usury,\\n',\n",
       " '  Which happies those that pay the willing loan;\\n',\n",
       " \"  That's for thy self to breed another thee,\\n\",\n",
       " '  Or ten times happier, be it ten for one;\\n',\n",
       " '  Ten times thy self were happier than thou art,\\n',\n",
       " \"  If ten of thine ten times refigur'd thee:\\n\",\n",
       " '  Then what could death do if thou shouldst depart,\\n',\n",
       " '  Leaving thee living in posterity?\\n',\n",
       " \"    Be not self-will'd, for thou art much too fair\\n\",\n",
       " \"    To be death's conquest and make worms thine heir.\\n\"]"
      ]
     },
     "execution_count": 4,
     "metadata": {},
     "output_type": "execute_result"
    }
   ],
   "source": [
    "text[:100]"
   ]
  },
  {
   "cell_type": "markdown",
   "metadata": {
    "id": "Dog-dW47NSn_"
   },
   "source": [
    "As we can see sonnets have almost the same length, so let`s take a sample and find out the average len of one text."
   ]
  },
  {
   "cell_type": "code",
   "execution_count": 5,
   "metadata": {
    "colab": {
     "base_uri": "https://localhost:8080/"
    },
    "id": "WN9UVxUjL2Jw",
    "outputId": "87b48300-1099-4721-ba81-d17b24c1c6fc"
   },
   "outputs": [
    {
     "data": {
      "text/plain": [
       "649.6666666666666"
      ]
     },
     "execution_count": 5,
     "metadata": {},
     "output_type": "execute_result"
    }
   ],
   "source": [
    "text = ''.join(text)\n",
    "sample = re.split('II|III|IV|V', text)[:6]\n",
    "np.mean([len(t) for t in sample])"
   ]
  },
  {
   "cell_type": "code",
   "execution_count": 6,
   "metadata": {
    "id": "LBT6Ff8BNjsX"
   },
   "outputs": [],
   "source": [
    "# so set SEQ_LEN as 650\n",
    "SEQ_LEN = 650"
   ]
  },
  {
   "cell_type": "markdown",
   "metadata": {
    "id": "-0aktGzIl4mk"
   },
   "source": [
    "In opposite to the in-class practice, this time we want to predict complex text. Let's reduce the complexity of the task and lowercase all the symbols.\n",
    "\n",
    "Now variable `text` is a list of strings. Join all the strings into one and lowercase it."
   ]
  },
  {
   "cell_type": "code",
   "execution_count": 7,
   "metadata": {
    "colab": {
     "base_uri": "https://localhost:8080/"
    },
    "id": "sQdHufRTl4mk",
    "outputId": "4fb746aa-6c4f-4a7e-98bc-8443e4352e12"
   },
   "outputs": [
    {
     "name": "stdout",
     "output_type": "stream",
     "text": [
      "OK!\n"
     ]
    }
   ],
   "source": [
    "# Join all the strings into one and lowercase it\n",
    "# Put result into variable text.\n",
    "text = text.lower()\n",
    "# Your great code here\n",
    "\n",
    "assert len(text) == 100225, 'Are you sure you have concatenated all the strings?'\n",
    "assert not any([x in set(text) for x in string.ascii_uppercase]), 'Uppercase letters are present'\n",
    "print('OK!')"
   ]
  },
  {
   "cell_type": "code",
   "execution_count": 8,
   "metadata": {
    "id": "GYqM2ITmKGK3"
   },
   "outputs": [],
   "source": [
    "device = torch.device('cuda') if torch.cuda.is_available() else torch.device('cpu')"
   ]
  },
  {
   "cell_type": "markdown",
   "metadata": {
    "id": "a03iG7Knl4mm"
   },
   "source": [
    "Put all the characters, that you've seen in the text, into variable `tokens`."
   ]
  },
  {
   "cell_type": "code",
   "execution_count": 9,
   "metadata": {
    "id": "ALKbokQCl4mm"
   },
   "outputs": [],
   "source": [
    "tokens = sorted(set(text))\n",
    "assert len(tokens) == 38"
   ]
  },
  {
   "cell_type": "markdown",
   "metadata": {
    "id": "tonpUYOcl4mn"
   },
   "source": [
    "Create dictionary `token_to_idx = {<char>: <index>}` and dictionary `idx_to_token = {<index>: <char>}`"
   ]
  },
  {
   "cell_type": "code",
   "execution_count": 10,
   "metadata": {
    "collapsed": true,
    "id": "FyQ-625Sl4mn"
   },
   "outputs": [],
   "source": [
    "# dict <index>:<char>\n",
    "idx_to_token = dict((i, c) for i, c in enumerate(tokens))\n",
    "# dict <char>:<index>\n",
    "token_to_idx = dict((c, i) for i, c in enumerate(tokens))"
   ]
  },
  {
   "cell_type": "code",
   "execution_count": 11,
   "metadata": {
    "id": "8AYCRKV0MxHj"
   },
   "outputs": [],
   "source": [
    "sequence = np.array([token_to_idx[char] for char in text])"
   ]
  },
  {
   "cell_type": "markdown",
   "metadata": {
    "id": "rWkoEO9ol4mn"
   },
   "source": [
    "*Comment: in this task we have only 38 different tokens, so let's use one-hot encoding.*"
   ]
  },
  {
   "cell_type": "markdown",
   "metadata": {
    "id": "qQo7Np_KRwUm"
   },
   "source": [
    "__Define some functions for nets training__"
   ]
  },
  {
   "cell_type": "code",
   "execution_count": 12,
   "metadata": {
    "id": "QVtfb1Q0JrHO"
   },
   "outputs": [],
   "source": [
    "BATCH_SIZE = 128\n",
    "\n",
    "def get_batches(sequence: np.array, batch_size = BATCH_SIZE, seq_len=SEQ_LEN):\n",
    "    '''\n",
    "    Generate batches from the sequence of indices for network training; \n",
    "    '''\n",
    "    total_size = batch_size * seq_len\n",
    "    n_batches = len(sequence)//total_size    \n",
    "    chunk = sequence[:n_batches * total_size]\n",
    "    chunk = chunk.reshape((batch_size, -1))\n",
    "    for n in range(0, chunk.shape[1], seq_len):\n",
    "        train = chunk[:, n:n+seq_len]\n",
    "        target = np.zeros_like(train)\n",
    "        try:\n",
    "            target[:, :-1], target[:, -1] = train[:, 1:], chunk[:, n+seq_len]\n",
    "        except IndexError:\n",
    "            target[:, :-1], target[:, -1] = train[:, 1:], chunk[:, 0]\n",
    "        yield train, target"
   ]
  },
  {
   "cell_type": "code",
   "execution_count": 13,
   "metadata": {
    "id": "Uw134oZwR6sU"
   },
   "outputs": [],
   "source": [
    "def one_hot_encode(sequence: np.array, n_labels: int):\n",
    "    '''\n",
    "    Converts encoded characters from integers to one-hot vectors\n",
    "    '''\n",
    "    ohe = np.zeros((np.multiply(*sequence.shape), n_labels), dtype=np.float32)    \n",
    "    ohe[np.arange(ohe.shape[0]), sequence.flatten()] = 1.    \n",
    "    ohe = ohe.reshape((*sequence.shape, n_labels))\n",
    "    return ohe"
   ]
  },
  {
   "cell_type": "markdown",
   "metadata": {
    "id": "eYQeZcb3l4mn"
   },
   "source": [
    "### Building the model"
   ]
  },
  {
   "cell_type": "markdown",
   "metadata": {
    "id": "kdrlVh4Tl4mn"
   },
   "source": [
    "Now we want to build and train recurrent neural net which would be able to something similar to Shakespeare's poetry.\n",
    "\n",
    "Let's use vanilla RNN, similar to the one created during the lesson."
   ]
  },
  {
   "cell_type": "markdown",
   "metadata": {
    "id": "iU7bHrWkkpHG"
   },
   "source": [
    "__Did not implement__"
   ]
  },
  {
   "cell_type": "markdown",
   "metadata": {
    "id": "MSGDRmmFl4mo"
   },
   "source": [
    "Plot the loss function (axis X: number of epochs, axis Y: loss function)."
   ]
  },
  {
   "cell_type": "markdown",
   "metadata": {
    "id": "qKQi1S-jl4mo"
   },
   "source": [
    "### More poetic model\n",
    "\n",
    "Let's use LSTM instead of vanilla RNN and compare the results."
   ]
  },
  {
   "cell_type": "code",
   "execution_count": 20,
   "metadata": {
    "id": "iSrhFn5rYrlt"
   },
   "outputs": [],
   "source": [
    "class LSTM(nn.Module):\n",
    "    \n",
    "    def __init__(self, tokens, device=device, n_hidden=256, n_layers=2, drop_prob=0.5):\n",
    "        super().__init__()    \n",
    "        self.drop_prob = drop_prob\n",
    "        self.n_layers = n_layers\n",
    "        self.n_hidden = n_hidden       \n",
    "        self.n_tokens = len(tokens)\n",
    "        self.idx_to_token = dict((i, c) for i, c in enumerate(tokens))\n",
    "        self.token_to_idx = dict((c, i) for i, c in enumerate(tokens))\n",
    "\n",
    "        self.lstm = nn.LSTM(self.n_tokens, n_hidden, n_layers, \n",
    "                            dropout=drop_prob, batch_first=True)\n",
    "        self.dropout = nn.Dropout(drop_prob)\n",
    "        self.fc = nn.Linear(n_hidden, self.n_tokens)\n",
    "        \n",
    "    def forward(self, x, hidden):\n",
    "        r_output, hidden = self.lstm(x, hidden)\n",
    "        out = self.dropout(r_output)\n",
    "        out = out.contiguous().view(-1, self.n_hidden)        \n",
    "        out = self.fc(out)\n",
    "        return out, hidden\n",
    "    \n",
    "    def init_hidden(self, batch_size=1):\n",
    "        weight = next(self.parameters()).data\n",
    "        hidden = (weight.new(self.n_layers, batch_size, self.n_hidden).zero_().to(device),\n",
    "                  weight.new(self.n_layers, batch_size, self.n_hidden).zero_().to(device))\n",
    "        return hidden"
   ]
  },
  {
   "cell_type": "markdown",
   "metadata": {
    "id": "Y8vP5b7Ml4mp"
   },
   "source": [
    "Plot the loss function of the number of epochs. Does the final loss become better?"
   ]
  },
  {
   "cell_type": "code",
   "execution_count": 15,
   "metadata": {
    "collapsed": true,
    "id": "ZWThcHFrl4mo"
   },
   "outputs": [],
   "source": [
    "def train(model, data, device, optimizer, criterion, epochs=20, batch_size=BATCH_SIZE, seq_len=SEQ_LEN, clip=5):\n",
    "    history = []\n",
    "    model.train()\n",
    "    \n",
    "    for epoch in range(epochs):\n",
    "        hid = model.init_hidden(batch_size)\n",
    "        \n",
    "        for x, y in get_batches(data, batch_size, seq_len):\n",
    "            # OHE data\n",
    "            x = one_hot_encode(x, model.n_tokens)\n",
    "            inputs, targets = torch.from_numpy(x), torch.from_numpy(y)\n",
    "            inputs, targets = inputs.to(device), targets.to(device)\n",
    "\n",
    "            # zero accumulated gradients\n",
    "            model.zero_grad()            \n",
    "            output, hid = model(inputs, hid)\n",
    "            \n",
    "            # calculate loss\n",
    "            loss = criterion(output, targets.view(batch_size*seq_len).long())\n",
    "            loss.backward(retain_graph=True)\n",
    "            \n",
    "            # clip gradients to avoid exploding gradients,\n",
    "            nn.utils.clip_grad_norm_(model.parameters(), clip)\n",
    "            optimizer.step()\n",
    "            history.append(loss.item())\n",
    "\n",
    "        clear_output(True)\n",
    "        plt.plot(history, label='loss')\n",
    "        plt.xlabel('epochs')\n",
    "        plt.ylabel('loss')\n",
    "        plt.legend()\n",
    "        plt.show()\n",
    "        "
   ]
  },
  {
   "cell_type": "code",
   "execution_count": 21,
   "metadata": {
    "colab": {
     "base_uri": "https://localhost:8080/",
     "height": 279
    },
    "collapsed": true,
    "id": "SvB_00W6l4mp",
    "outputId": "9849fa6e-e1a9-45e3-b454-f831bf9d4633"
   },
   "outputs": [
    {
     "data": {
      "image/png": "[encoded data removed]",
      "text/plain": [
       "<Figure size 432x288 with 1 Axes>"
      ]
     },
     "metadata": {
      "needs_background": "light"
     },
     "output_type": "display_data"
    }
   ],
   "source": [
    "# define the model\n",
    "n_hidden=512\n",
    "n_layers=2\n",
    "model = LSTM(tokens, device, n_hidden, n_layers).to(device)\n",
    "epochs = 300 \n",
    "opt = torch.optim.Adam(model.parameters(), lr=1e-2)\n",
    "criterion = nn.CrossEntropyLoss()\n",
    "\n",
    "# train the model\n",
    "train(model, sequence, device, opt, criterion, epochs=epochs)"
   ]
  }
 ],
 "metadata": {
  "accelerator": "GPU",
  "anaconda-cloud": {},
  "colab": {
   "provenance": []
  },
  "gpuClass": "standard",
  "kernelspec": {
   "display_name": "Python 3 (ipykernel)",
   "language": "python",
   "name": "python3"
  },
  "language_info": {
   "codemirror_mode": {
    "name": "ipython",
    "version": 3
   },
   "file_extension": ".py",
   "mimetype": "text/x-python",
   "name": "python",
   "nbconvert_exporter": "python",
   "pygments_lexer": "ipython3",
   "version": "3.9.7"
  }
 },
 "nbformat": 4,
 "nbformat_minor": 1
}
